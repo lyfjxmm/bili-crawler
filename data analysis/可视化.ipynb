{
 "cells": [
  {
   "cell_type": "code",
   "execution_count": 2,
   "metadata": {},
   "outputs": [
    {
     "name": "stdout",
     "output_type": "stream",
     "text": [
      "localhost root 123123 3306\n"
     ]
    }
   ],
   "source": [
    "import sys\n",
    "sys.path.append(\"..\")\n",
    "from user import User\n",
    "import pandas as pd\n",
    "import numpy as np\n",
    "from sqlalchemy import create_engine\n",
    "from pyecharts.charts import Pie\n",
    "from pyecharts import options as opts\n",
    "from pyecharts.globals import ThemeType\n",
    "import configparser\n",
    "\n",
    "config = configparser.ConfigParser()\n",
    "config.read('../config.ini', encoding='utf-8')\n",
    "\n",
    "HOST = config.get('MySQL', 'host')\n",
    "USER = config.get('MySQL', 'user')\n",
    "PASSWORD = config.get('MySQL', 'password')\n",
    "PORT = config.get('MySQL', 'port')\n",
    "print(HOST,USER,PASSWORD,PORT)\n"
   ]
  },
  {
   "cell_type": "code",
   "execution_count": 5,
   "metadata": {
    "collapsed": true,
    "jupyter": {
     "outputs_hidden": true
    },
    "tags": []
   },
   "outputs": [],
   "source": [
    "# MySQL拿数据\n",
    "engine = create_engine('mysql+pymysql://'+USER+':' +\n",
    "                       PASSWORD+'@'+HOST+':'+PORT+'/bili')\n",
    "sql = 'SELECT * FROM all_up_info'\n",
    "df = pd.read_sql_query(sql, engine)\n",
    "# None替换为NaN\n",
    "df.fillna(np.nan, inplace=True)\n",
    "df['大会员'].replace(np.nan, '无', inplace=True)\n",
    "df['最多投稿分区'] = df.apply(\n",
    "    lambda x: x.iloc[13: 36].astype('float64').idxmax(), axis=1)\n",
    "df['十万粉丝'] = df.apply(lambda x: '十万粉以上' if x.粉丝数 > 100000 else '以下', axis=1)\n",
    "\n",
    "df.drop(df.columns[13:36], axis=1, inplace=True)\n"
   ]
  },
  {
   "cell_type": "code",
   "execution_count": 6,
   "metadata": {},
   "outputs": [],
   "source": [
    "# 用户关注的dataframe\n",
    "def user_following_df(uid):\n",
    "    followlist = User(uid).follow_list()\n",
    "    userDf = df[df['uid'].apply(lambda x: x in followlist)]\n",
    "    return userDf\n"
   ]
  },
  {
   "cell_type": "code",
   "execution_count": 7,
   "metadata": {
    "tags": []
   },
   "outputs": [],
   "source": [
    "# 生成基础饼图\n",
    "def create_pie(text, title):\n",
    "    data = df['{}'.format(text)].value_counts().to_dict()\n",
    "    pie = (\n",
    "        Pie(init_opts=opts.InitOpts(theme=ThemeType.LIGHT))\n",
    "        .add(\"\", [list(z) for z in zip(data.keys(), data.values())])\n",
    "        .set_global_opts(title_opts=opts.TitleOpts(title=\"{}\".format(title)))\n",
    "    )\n",
    "    return pie.render_notebook()\n",
    "\n",
    "\n",
    "# 生成基础柱状图\n",
    "def create_bar(text, title):\n",
    "    pass\n"
   ]
  },
  {
   "cell_type": "code",
   "execution_count": 8,
   "metadata": {},
   "outputs": [
    {
     "data": {
      "text/html": [
       "\n",
       "<script>\n",
       "    require.config({\n",
       "        paths: {\n",
       "            'echarts':'https://assets.pyecharts.org/assets/echarts.min'\n",
       "        }\n",
       "    });\n",
       "</script>\n",
       "\n",
       "        <div id=\"c6cfaa726dc345749b49338489784318\" style=\"width:900px; height:500px;\"></div>\n",
       "\n",
       "<script>\n",
       "        require(['echarts'], function(echarts) {\n",
       "                var chart_c6cfaa726dc345749b49338489784318 = echarts.init(\n",
       "                    document.getElementById('c6cfaa726dc345749b49338489784318'), 'light', {renderer: 'canvas'});\n",
       "                var option_c6cfaa726dc345749b49338489784318 = {\n",
       "    \"animation\": true,\n",
       "    \"animationThreshold\": 2000,\n",
       "    \"animationDuration\": 1000,\n",
       "    \"animationEasing\": \"cubicOut\",\n",
       "    \"animationDelay\": 0,\n",
       "    \"animationDurationUpdate\": 300,\n",
       "    \"animationEasingUpdate\": \"cubicOut\",\n",
       "    \"animationDelayUpdate\": 0,\n",
       "    \"series\": [\n",
       "        {\n",
       "            \"type\": \"pie\",\n",
       "            \"clockwise\": true,\n",
       "            \"data\": [\n",
       "                {\n",
       "                    \"name\": \"\\u5e74\\u5ea6\\u5927\\u4f1a\\u5458\",\n",
       "                    \"value\": 253\n",
       "                },\n",
       "                {\n",
       "                    \"name\": \"\\u65e0\",\n",
       "                    \"value\": 105\n",
       "                },\n",
       "                {\n",
       "                    \"name\": \"\\u5341\\u5e74\\u5927\\u4f1a\\u5458\",\n",
       "                    \"value\": 9\n",
       "                },\n",
       "                {\n",
       "                    \"name\": \"\\u5927\\u4f1a\\u5458\",\n",
       "                    \"value\": 6\n",
       "                },\n",
       "                {\n",
       "                    \"name\": \"\\u767e\\u5e74\\u5927\\u4f1a\\u5458\",\n",
       "                    \"value\": 1\n",
       "                }\n",
       "            ],\n",
       "            \"radius\": [\n",
       "                \"0%\",\n",
       "                \"75%\"\n",
       "            ],\n",
       "            \"center\": [\n",
       "                \"50%\",\n",
       "                \"50%\"\n",
       "            ],\n",
       "            \"label\": {\n",
       "                \"show\": true,\n",
       "                \"position\": \"top\",\n",
       "                \"margin\": 8\n",
       "            }\n",
       "        }\n",
       "    ],\n",
       "    \"legend\": [\n",
       "        {\n",
       "            \"data\": [\n",
       "                \"\\u5e74\\u5ea6\\u5927\\u4f1a\\u5458\",\n",
       "                \"\\u65e0\",\n",
       "                \"\\u5341\\u5e74\\u5927\\u4f1a\\u5458\",\n",
       "                \"\\u5927\\u4f1a\\u5458\",\n",
       "                \"\\u767e\\u5e74\\u5927\\u4f1a\\u5458\"\n",
       "            ],\n",
       "            \"selected\": {},\n",
       "            \"show\": true,\n",
       "            \"padding\": 5,\n",
       "            \"itemGap\": 10,\n",
       "            \"itemWidth\": 25,\n",
       "            \"itemHeight\": 14\n",
       "        }\n",
       "    ],\n",
       "    \"tooltip\": {\n",
       "        \"show\": true,\n",
       "        \"trigger\": \"item\",\n",
       "        \"triggerOn\": \"mousemove|click\",\n",
       "        \"axisPointer\": {\n",
       "            \"type\": \"line\"\n",
       "        },\n",
       "        \"showContent\": true,\n",
       "        \"alwaysShowContent\": false,\n",
       "        \"showDelay\": 0,\n",
       "        \"hideDelay\": 100,\n",
       "        \"textStyle\": {\n",
       "            \"fontSize\": 14\n",
       "        },\n",
       "        \"borderWidth\": 0,\n",
       "        \"padding\": 5\n",
       "    },\n",
       "    \"title\": [\n",
       "        {\n",
       "            \"text\": \"\\u5927\\u4f1a\\u5458\\u5360\\u6bd4\",\n",
       "            \"padding\": 5,\n",
       "            \"itemGap\": 10\n",
       "        }\n",
       "    ]\n",
       "};\n",
       "                chart_c6cfaa726dc345749b49338489784318.setOption(option_c6cfaa726dc345749b49338489784318);\n",
       "        });\n",
       "    </script>\n"
      ],
      "text/plain": [
       "<pyecharts.render.display.HTML at 0x1590d003550>"
      ]
     },
     "execution_count": 8,
     "metadata": {},
     "output_type": "execute_result"
    }
   ],
   "source": [
    "create_pie('大会员','大会员占比')"
   ]
  },
  {
   "cell_type": "code",
   "execution_count": null,
   "metadata": {},
   "outputs": [],
   "source": [
    "create_pie('性别','用户中性别占比')"
   ]
  }
 ],
 "metadata": {
  "interpreter": {
   "hash": "70ab33f35a6bba1a6feaa63da30aa90ac1803a4822737c8f3d5662828ce64e6f"
  },
  "kernelspec": {
   "display_name": "Python 3.9.5 64-bit",
   "name": "python3"
  },
  "language_info": {
   "codemirror_mode": {
    "name": "ipython",
    "version": 3
   },
   "file_extension": ".py",
   "mimetype": "text/x-python",
   "name": "python",
   "nbconvert_exporter": "python",
   "pygments_lexer": "ipython3",
   "version": "3.9.5"
  }
 },
 "nbformat": 4,
 "nbformat_minor": 4
}
