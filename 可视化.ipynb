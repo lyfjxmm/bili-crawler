{
 "cells": [
  {
   "cell_type": "code",
   "execution_count": null,
   "metadata": {},
   "outputs": [],
   "source": [
    "from pyecharts.globals import ThemeType\n",
    "from mytool import biliconfig\n",
    "from user import User\n",
    "import pandas as pd\n",
    "import numpy as np\n",
    "from sqlalchemy import create_engine\n",
    "from pyecharts.charts import Pie\n",
    "from pyecharts import options as opts\n",
    "config = biliconfig()\n",
    "\n",
    "HOST = config.host\n",
    "USER = config.user\n",
    "PASSWORD = config.password\n",
    "PORT = config.port\n"
   ]
  },
  {
   "cell_type": "code",
   "execution_count": null,
   "metadata": {
    "collapsed": true,
    "jupyter": {
     "outputs_hidden": true
    },
    "tags": []
   },
   "outputs": [],
   "source": [
    "# MySQL拿数据\n",
    "engine = create_engine('mysql+pymysql://'+USER+':' +\n",
    "                       PASSWORD+'@'+HOST+':'+str(PORT)+'/bili')\n",
    "sql = 'SELECT * FROM all_up_info'\n",
    "df = pd.read_sql_query(sql, engine)\n",
    "# None替换为NaN\n",
    "df.fillna(np.nan, inplace=True)\n",
    "df['大会员'].replace(np.nan, '无', inplace=True)\n",
    "df['最多投稿分区'] = df.apply(\n",
    "    lambda x: x.iloc[13: 36].astype('float64').idxmax(), axis=1)\n",
    "df['十万粉丝'] = df.apply(lambda x: '十万粉以上' if x.粉丝数 > 100000 else '以下', axis=1)\n",
    "\n",
    "df.drop(df.columns[13:36], axis=1, inplace=True)\n"
   ]
  },
  {
   "cell_type": "code",
   "execution_count": null,
   "metadata": {},
   "outputs": [],
   "source": [
    "# 用户关注的dataframe\n",
    "def user_following_df(uid):\n",
    "    followlist = User(uid).follow_list()\n",
    "    userDf = df[df['uid'].apply(lambda x: x in followlist)]\n",
    "    return userDf\n"
   ]
  },
  {
   "cell_type": "code",
   "execution_count": null,
   "metadata": {
    "tags": []
   },
   "outputs": [],
   "source": [
    "# 生成基础饼图\n",
    "def create_pie(text, title):\n",
    "    data = df['{}'.format(text)].value_counts().to_dict()\n",
    "    pie = (\n",
    "        Pie(init_opts=opts.InitOpts(theme=ThemeType.LIGHT))\n",
    "        .add(\"\", [list(z) for z in zip(data.keys(), data.values())])\n",
    "        .set_global_opts(title_opts=opts.TitleOpts(title=\"{}\".format(title)))\n",
    "    )\n",
    "    return pie.render_notebook()\n",
    "\n",
    "\n",
    "# 生成基础柱状图\n",
    "def create_bar(text, title):\n",
    "    pass\n"
   ]
  },
  {
   "cell_type": "code",
   "execution_count": null,
   "metadata": {},
   "outputs": [],
   "source": [
    "create_pie('大会员','大会员占比')"
   ]
  },
  {
   "cell_type": "code",
   "execution_count": null,
   "metadata": {},
   "outputs": [],
   "source": [
    "create_pie('性别','用户中性别占比')"
   ]
  }
 ],
 "metadata": {
  "interpreter": {
   "hash": "70ab33f35a6bba1a6feaa63da30aa90ac1803a4822737c8f3d5662828ce64e6f"
  },
  "kernelspec": {
   "display_name": "Python 3.9.5 64-bit",
   "name": "python3"
  },
  "language_info": {
   "codemirror_mode": {
    "name": "ipython",
    "version": 3
   },
   "file_extension": ".py",
   "mimetype": "text/x-python",
   "name": "python",
   "nbconvert_exporter": "python",
   "pygments_lexer": "ipython3",
   "version": "3.9.5"
  }
 },
 "nbformat": 4,
 "nbformat_minor": 4
}
